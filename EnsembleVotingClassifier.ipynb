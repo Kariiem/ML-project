{
 "cells": [
  {
   "cell_type": "code",
   "execution_count": 15,
   "metadata": {},
   "outputs": [],
   "source": [
    "from mlxtend.classifier import EnsembleVoteClassifier\n",
    "import utils\n",
    "import pandas as pd\n",
    "from sklearn.model_selection import train_test_split\n",
    "from sklearn.metrics import classification_report\n"
   ]
  },
  {
   "cell_type": "code",
   "execution_count": 10,
   "metadata": {},
   "outputs": [],
   "source": [
    "LightGBM_model_path = \"models/LGBMClassifier.pkl\"\n",
    "SVM_model_path = \"models/SVC.pkl\"\n",
    "# Neural_model_path = \"\"\n",
    "RandomForest_model_path = \"models/RandomForestClassifier.pkl\"\n",
    "\n",
    "LightGBM_model = utils.load_model(LightGBM_model_path)\n",
    "SVM_model = utils.load_model(SVM_model_path)\n",
    "# Neural_model = utils.load_model(Neural_model_path)\n",
    "RandomForest_model = utils.load_model(RandomForest_model_path)\n",
    "\n",
    "clf = EnsembleVoteClassifier(clfs=[LightGBM_model, SVM_model,\n",
    "                                   #      Neural_model,\n",
    "                                   RandomForest_model],\n",
    "                             voting='hard', fit_base_estimators=False)"
   ]
  },
  {
   "cell_type": "code",
   "execution_count": 11,
   "metadata": {},
   "outputs": [],
   "source": [
    "train = pd.read_csv(\"train.csv\").drop_duplicates()\n",
    "X = utils.prepare_data(train)\n",
    "X_train, X_test, Y_train, Y_test = train_test_split(\n",
    "    X.drop(columns=[\"Body_Level\"]), X[\"Body_Level\"], test_size=0.2, random_state=42\n",
    ")"
   ]
  },
  {
   "cell_type": "code",
   "execution_count": 17,
   "metadata": {},
   "outputs": [
    {
     "name": "stdout",
     "output_type": "stream",
     "text": [
      "              precision    recall  f1-score   support\n",
      "\n",
      "           0       1.00      1.00      1.00        31\n",
      "           1       1.00      1.00      1.00        42\n",
      "           2       1.00      1.00      1.00        80\n",
      "           3       1.00      1.00      1.00       140\n",
      "\n",
      "    accuracy                           1.00       293\n",
      "   macro avg       1.00      1.00      1.00       293\n",
      "weighted avg       1.00      1.00      1.00       293\n",
      "\n"
     ]
    }
   ],
   "source": [
    "clf = clf.fit(X_train.values ,Y_train)\n",
    "predicts = clf.predict(X_test.values)\n",
    "print(classification_report(Y_test, predicts))"
   ]
  },
  {
   "cell_type": "code",
   "execution_count": 18,
   "metadata": {},
   "outputs": [],
   "source": [
    "utils.save_model(clf)"
   ]
  },
  {
   "cell_type": "code",
   "execution_count": null,
   "metadata": {},
   "outputs": [],
   "source": []
  }
 ],
 "metadata": {
  "kernelspec": {
   "display_name": "Python 3",
   "language": "python",
   "name": "python3"
  },
  "language_info": {
   "codemirror_mode": {
    "name": "ipython",
    "version": 3
   },
   "file_extension": ".py",
   "mimetype": "text/x-python",
   "name": "python",
   "nbconvert_exporter": "python",
   "pygments_lexer": "ipython3",
   "version": "3.10.1"
  },
  "orig_nbformat": 4
 },
 "nbformat": 4,
 "nbformat_minor": 2
}
